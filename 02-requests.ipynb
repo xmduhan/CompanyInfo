{
 "cells": [
  {
   "cell_type": "code",
   "execution_count": 1,
   "metadata": {
    "collapsed": true
   },
   "outputs": [],
   "source": [
    "import urllib\n",
    "import requests \n",
    "from PIL import Image\n",
    "from StringIO import StringIO\n",
    "from BeautifulSoup import BeautifulSoup\n",
    "from CodeReader import read_code"
   ]
  },
  {
   "cell_type": "code",
   "execution_count": 2,
   "metadata": {
    "collapsed": true
   },
   "outputs": [],
   "source": [
    "cookies = {}"
   ]
  },
  {
   "cell_type": "code",
   "execution_count": 3,
   "metadata": {},
   "outputs": [
    {
     "name": "stdout",
     "output_type": "stream",
     "text": [
      "{'bg7044': '3|We03z|We03z', 'JSESSIONID': '788327087091F9926E3670EE22A93CAF'}\n",
      "223 50\n"
     ]
    },
    {
     "data": {
      "image/png": "[encoded data removed]",
      "text/plain": [
       "<PIL.JpegImagePlugin.JpegImageFile image mode=RGB size=223x50 at 0x7F8B61573850>"
      ]
     },
     "execution_count": 3,
     "metadata": {},
     "output_type": "execute_result"
    }
   ],
   "source": [
    "url = 'https://s.nacao.org.cn/servlet/ValidateCode?time='\n",
    "response = requests.get(url, cookies=cookies)\n",
    "cookies.update(response.cookies.get_dict())\n",
    "print cookies\n",
    "image = Image.open(StringIO(response.content))\n",
    "print image.width, image.height\n",
    "image"
   ]
  },
  {
   "cell_type": "code",
   "execution_count": 4,
   "metadata": {},
   "outputs": [],
   "source": [
    "code = read_code(image)"
   ]
  },
  {
   "cell_type": "code",
   "execution_count": 5,
   "metadata": {},
   "outputs": [
    {
     "name": "stdout",
     "output_type": "stream",
     "text": [
      "{'yzm': 'dfdaf'}\n",
      "{'bg7044': '3|We030|We03z', 'JSESSIONID': '788327087091F9926E3670EE22A93CAF'}\n"
     ]
    },
    {
     "data": {
      "text/plain": [
       "{\"result\":\"true\"}"
      ]
     },
     "execution_count": 5,
     "metadata": {},
     "output_type": "execute_result"
    }
   ],
   "source": [
    "url = 'https://s.nacao.org.cn/servlet/CheckValidateCode'\n",
    "data = {'yzm': code}\n",
    "print data\n",
    "response = requests.post(url, data=data, cookies=cookies)\n",
    "cookies.update(response.cookies.get_dict())\n",
    "print cookies\n",
    "BeautifulSoup(response.content)"
   ]
  },
  {
   "cell_type": "code",
   "execution_count": 6,
   "metadata": {},
   "outputs": [
    {
     "data": {
      "text/plain": [
       "[{\"currentpage\":\"\",\"endNum\":\"\",\"firststrfind\":\"\",\"intPageCount\":\"\",\"intRowCount\":\"\",\"key\":\"微山县联宇物资贸易有限公司\",\"kind\":\"2\",\"startNum\":\"\",\"strfind\":\"jgmc='微山县联宇物资贸易有限公司'\",\"xzqhName\":\"alll\"},[{\"bzjgmcs\":\"\",\"bzrq\":\"2017-08-16\",\"entryJgdm\":\"\",\"jgdm\":\"MA3FDUP83\",\"jgdz\":\"山东省济宁市微山县昭阳街道蒋庄村236号\",\"jglx\":\"企业\",\"jgmc\":\"微山县联宇物资贸易有限公司\",\"ly\":\"ZK_N\",\"reservea\":\"\",\"rowNum\":\"\",\"tydm\":\"91370826MA3FDUP83U\",\"zch\":\"370826200048928\",\"zcrq\":\"2017-08-16\",\"zfrq\":\"2032-08-15\"}]]"
      ]
     },
     "execution_count": 6,
     "metadata": {},
     "output_type": "execute_result"
    }
   ],
   "source": [
    "name = u'微山县联宇物资贸易有限公司'\n",
    "nameEncoded = urllib.quote(name.encode('utf-8'))\n",
    "data = {\n",
    "    u'firststrfind': u\"jgmc='%s'\" % nameEncoded,\n",
    "    u'strfind': u\"jgmc='%s'\" % nameEncoded, \n",
    "    u'key': nameEncoded,\n",
    "    u'kind': u'2',\n",
    "    u'tit1': nameEncoded,\n",
    "    # u'selecttags': u'全国',\n",
    "    u'selecttags': urllib.quote(u'全国'.encode('utf-8')),\n",
    "    u'xzqhName': u'alll',\n",
    "    u'button': u'',\n",
    "    u'jgdm': u'false',\n",
    "    u'jgmc': u'true',\n",
    "    u'zcdz': u'false',\n",
    "    u'strJgmc': u'',\n",
    "    u'': u'',\n",
    "    u'secondSelectFlag': u'',\n",
    "}\n",
    "url = 'https://s.nacao.org.cn/servlet/valication' \n",
    "response = requests.post(url, data=data, cookies=cookies)\n",
    "BeautifulSoup(response.content)"
   ]
  }
 ],
 "metadata": {
  "kernelspec": {
   "display_name": "Python 2",
   "language": "python",
   "name": "python2"
  },
  "language_info": {
   "codemirror_mode": {
    "name": "ipython",
    "version": 2
   },
   "file_extension": ".py",
   "mimetype": "text/x-python",
   "name": "python",
   "nbconvert_exporter": "python",
   "pygments_lexer": "ipython2",
   "version": "2.7.12"
  }
 },
 "nbformat": 4,
 "nbformat_minor": 2
}
