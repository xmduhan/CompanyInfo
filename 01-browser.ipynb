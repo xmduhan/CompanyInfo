{
 "cells": [
  {
   "cell_type": "code",
   "execution_count": 1,
   "metadata": {},
   "outputs": [],
   "source": [
    "import requests \n",
    "from pandas import DataFrame\n",
    "from collections import OrderedDict\n",
    "from selenium import webdriver\n",
    "from BeautifulSoup import BeautifulSoup\n",
    "from time import sleep\n",
    "# http://www.nacao.org.cn/portal/publish/index.html\n",
    "name = u'连云港玖酬商务信息咨询有限公司'\n",
    "mainUrl = 'http://www.nacao.org.cn/portal/publish/index.html'"
   ]
  },
  {
   "cell_type": "code",
   "execution_count": 2,
   "metadata": {},
   "outputs": [],
   "source": [
    "driver = webdriver.Firefox()\n",
    "driver.maximize_window()"
   ]
  },
  {
   "cell_type": "code",
   "execution_count": 3,
   "metadata": {
    "collapsed": true
   },
   "outputs": [],
   "source": [
    "def switchWindow(n):\n",
    "    \"\"\" 切换窗口 \"\"\"\n",
    "    driver.switch_to.window(driver.window_handles[n])"
   ]
  },
  {
   "cell_type": "code",
   "execution_count": 4,
   "metadata": {
    "collapsed": true
   },
   "outputs": [],
   "source": [
    "def closeOthers():\n",
    "    \"\"\" 关闭其他窗口 \"\"\"\n",
    "    while len(driver.window_handles) > 1:\n",
    "        switchWindow(1)\n",
    "        driver.close()"
   ]
  },
  {
   "cell_type": "code",
   "execution_count": 5,
   "metadata": {
    "collapsed": true
   },
   "outputs": [],
   "source": [
    "def waitCode():\n",
    "    \"\"\" 等待输入验证码 \"\"\"\n",
    "    switchWindow(1)\n",
    "    # 等待页面加载完毕\n",
    "    while True:\n",
    "        soup = BeautifulSoup(driver.page_source)\n",
    "        if u'数据加载中请稍候...' in unicode(soup):\n",
    "            break\n",
    "        sleep(1)\n",
    "    \n",
    "    # 等待用户输入验证码\n",
    "    while True:\n",
    "        soup = BeautifulSoup(driver.page_source)\n",
    "        if u'数据加载中请稍候...' not in unicode(soup):\n",
    "            break\n",
    "        sleep(1)"
   ]
  },
  {
   "cell_type": "code",
   "execution_count": 6,
   "metadata": {
    "collapsed": true
   },
   "outputs": [],
   "source": [
    "def readDataFromUrl(url):\n",
    "    respnose = requests.get(url)\n",
    "    soup = BeautifulSoup(respnose.content)\n",
    "    data = OrderedDict()\n",
    "    data[u'统一社会信用代码'] = soup.find('h3').text.split(u'：')[1].strip()\n",
    "    liList = soup.findAll('li', {'class': 'cnt'})\n",
    "    data[u'组织机构名称'] = liList[0].text\n",
    "    data[u'机构注册地址'] = liList[1].text\n",
    "    data[u'成立日期'] = liList[2].text\n",
    "    data[u'经营期限'] = liList[3].text\n",
    "    return data"
   ]
  },
  {
   "cell_type": "code",
   "execution_count": 7,
   "metadata": {},
   "outputs": [],
   "source": [
    "def getResultSet():\n",
    "    switchWindow(1)\n",
    "    soup = BeautifulSoup(driver.page_source)\n",
    "    aList = filter(lambda x: x.get('href').startswith('/gaiwan_shehui.jsp'), soup.findAll('a'))\n",
    "    urlList = map(lambda x: 'https://s.nacao.org.cn/' + x.get('href'), aList)\n",
    "    dataList = map(readDataFromUrl, urlList)\n",
    "    if len(dataList) == 0:\n",
    "        return None\n",
    "    else:\n",
    "        return DataFrame(dataList)"
   ]
  },
  {
   "cell_type": "code",
   "execution_count": 8,
   "metadata": {
    "collapsed": true
   },
   "outputs": [],
   "source": [
    "def fetch(name):\n",
    "    # 切换到主窗口\n",
    "    closeOthers()\n",
    "    switchWindow(0)\n",
    "\n",
    "    # 输入查询关键字\n",
    "    if driver.current_url != mainUrl:\n",
    "        driver.get(mainUrl)    \n",
    "    # 这里可能由于版本问题, send_keys无效\n",
    "    driver.execute_script(u\"document.getElementById('tit2').value = '%s'\" % name)\n",
    "    driver.execute_script('submitForm(2)')\n",
    "\n",
    "    # 切换查询窗口, 并等待验证码\n",
    "    switchWindow(1)\n",
    "    waitCode()\n",
    "    df = getResultSet()\n",
    "    \n",
    "    return df"
   ]
  },
  {
   "cell_type": "code",
   "execution_count": 9,
   "metadata": {},
   "outputs": [],
   "source": [
    "for i in range(3):\n",
    "    fetch(u'青海版筑建筑劳务有限公司')"
   ]
  },
  {
   "cell_type": "code",
   "execution_count": 10,
   "metadata": {},
   "outputs": [
    {
     "data": {
      "text/html": [
       "<div>\n",
       "<table border=\"1\" class=\"dataframe\">\n",
       "  <thead>\n",
       "    <tr style=\"text-align: right;\">\n",
       "      <th></th>\n",
       "      <th>统一社会信用代码</th>\n",
       "      <th>组织机构名称</th>\n",
       "      <th>机构注册地址</th>\n",
       "      <th>成立日期</th>\n",
       "      <th>经营期限</th>\n",
       "    </tr>\n",
       "  </thead>\n",
       "  <tbody>\n",
       "    <tr>\n",
       "      <th>0</th>\n",
       "      <td>91630103MA757E0M05</td>\n",
       "      <td>青海版筑建筑劳务有限公司</td>\n",
       "      <td>西宁市城中区滨河南路78号4号楼3单元3265室</td>\n",
       "      <td>2017-08-15</td>\n",
       "      <td>自2017年08月15日 至 2037年08月14日</td>\n",
       "    </tr>\n",
       "  </tbody>\n",
       "</table>\n",
       "</div>"
      ],
      "text/plain": [
       "             统一社会信用代码        组织机构名称                    机构注册地址        成立日期  \\\n",
       "0  91630103MA757E0M05  青海版筑建筑劳务有限公司  西宁市城中区滨河南路78号4号楼3单元3265室  2017-08-15   \n",
       "\n",
       "                         经营期限  \n",
       "0  自2017年08月15日 至 2037年08月14日  "
      ]
     },
     "execution_count": 10,
     "metadata": {},
     "output_type": "execute_result"
    }
   ],
   "source": [
    "fetch(u'青海版筑建筑劳务有限公司')"
   ]
  }
 ],
 "metadata": {
  "kernelspec": {
   "display_name": "Python 2",
   "language": "python",
   "name": "python2"
  },
  "language_info": {
   "codemirror_mode": {
    "name": "ipython",
    "version": 2
   },
   "file_extension": ".py",
   "mimetype": "text/x-python",
   "name": "python",
   "nbconvert_exporter": "python",
   "pygments_lexer": "ipython2",
   "version": "2.7.12"
  }
 },
 "nbformat": 4,
 "nbformat_minor": 2
}
